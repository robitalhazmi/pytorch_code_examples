{
  "nbformat": 4,
  "nbformat_minor": 0,
  "metadata": {
    "colab": {
      "provenance": [],
      "gpuType": "T4"
    },
    "kernelspec": {
      "name": "python3",
      "display_name": "Python 3"
    },
    "language_info": {
      "name": "python"
    },
    "accelerator": "GPU"
  },
  "cells": [
    {
      "cell_type": "markdown",
      "source": [
        "# Classification using Attention-based Deep Multiple Instance Learning (MIL)"
      ],
      "metadata": {
        "id": "SaTdd3aCGSXu"
      }
    },
    {
      "cell_type": "markdown",
      "source": [
        "## Introduction\n",
        "\n",
        "### What is Multiple Instance Learning (MIL)?\n",
        "\n",
        "Usually, with supervised learning algorithms, the learner receives labels for a set of\n",
        "instances. In the case of MIL, the learner receives labels for a set of bags, each of which\n",
        "contains a set of instances. The bag is labeled positive if it contains at least\n",
        "one positive instance, and negative if it does not contain any.\n",
        "\n",
        "### Motivation\n",
        "\n",
        "It is often assumed in image classification tasks that each image clearly represents a\n",
        "class label. In medical imaging (e.g. computational pathology, etc.) an *entire image*\n",
        "is represented by a single class label (cancerous/non-cancerous) or a region of interest\n",
        "could be given. However, one will be interested in knowing which patterns in the image\n",
        "is actually causing it to belong to that class. In this context, the image(s) will be\n",
        "divided and the subimages will form the bag of instances.\n",
        "\n",
        "Therefore, the goals are to:\n",
        "\n",
        "1. Learn a model to predict a class label for a bag of instances.\n",
        "2. Find out which instances within the bag caused a position class label\n",
        "prediction.\n",
        "\n",
        "### Implementation\n",
        "\n",
        "The following steps describe how the model works:\n",
        "\n",
        "1. The feature extractor layers extract feature embeddings.\n",
        "2. The embeddings are fed into the MIL attention layer to get\n",
        "the attention scores. The layer is designed as permutation-invariant.\n",
        "3. Input features and their corresponding attention scores are multiplied together.\n",
        "4. The resulting output is passed to a softmax function for classification.\n",
        "\n",
        "### References\n",
        "\n",
        "- [Attention-based Deep Multiple Instance Learning](https://arxiv.org/abs/1802.04712).\n",
        "- Some of the attention operator code implementation was inspired from https://github.com/utayao/Atten_Deep_MIL."
      ],
      "metadata": {
        "id": "TUPbrVkwGVlx"
      }
    },
    {
      "cell_type": "markdown",
      "source": [
        "## Setup"
      ],
      "metadata": {
        "id": "hrszKMbOKbeA"
      }
    },
    {
      "cell_type": "code",
      "source": [
        "import torch\n",
        "import torch.nn as nn\n",
        "import torch.optim as optim\n",
        "import numpy as np\n",
        "from tqdm import tqdm\n",
        "import matplotlib.pyplot as plt\n",
        "\n",
        "plt.style.use(\"ggplot\")"
      ],
      "metadata": {
        "id": "v9Oos5w8GTLv"
      },
      "execution_count": 1,
      "outputs": []
    },
    {
      "cell_type": "markdown",
      "source": [
        "## Create dataset\n",
        "\n",
        "We will create a set of bags and assign their labels according to their contents.\n",
        "If at least one positive instance\n",
        "is available in a bag, the bag is considered as a positive bag. If it does not contain any\n",
        "positive instance, the bag will be considered as negative.\n",
        "\n",
        "### Configuration parameters\n",
        "\n",
        "- `POSITIVE_CLASS`: The desired class to be kept in the positive bag.\n",
        "- `BAG_COUNT`: The number of training bags.\n",
        "- `VAL_BAG_COUNT`: The number of validation bags.\n",
        "- `BAG_SIZE`: The number of instances in a bag.\n",
        "- `PLOT_SIZE`: The number of bags to plot.\n",
        "- `ENSEMBLE_AVG_COUNT`: The number of models to create and average together. (Optional:\n",
        "often results in better performance - set to 1 for single model)"
      ],
      "metadata": {
        "id": "velnZGb2Lrhj"
      }
    },
    {
      "cell_type": "code",
      "source": [
        "# Configuration parameters\n",
        "POSITIVE_CLASS = 1\n",
        "BAG_COUNT = 1000\n",
        "VAL_BAG_COUNT = 300\n",
        "BAG_SIZE = 3\n",
        "PLOT_SIZE = 3\n",
        "ENSEMBLE_AVG_COUNT = 1"
      ],
      "metadata": {
        "id": "Y80365YXLypK"
      },
      "execution_count": 2,
      "outputs": []
    },
    {
      "cell_type": "markdown",
      "source": [
        "### Prepare bags\n",
        "\n",
        "Since the attention operator is a permutation-invariant operator, an instance with a\n",
        "positive class label is randomly placed among the instances in the positive bag."
      ],
      "metadata": {
        "id": "MIpwHf0-MRRw"
      }
    },
    {
      "cell_type": "code",
      "source": [
        "from torch.utils.data import Dataset, DataLoader\n",
        "from torchvision.datasets import MNIST\n",
        "from torchvision.transforms import ToTensor\n",
        "\n",
        "# Function to create bags\n",
        "def create_bags(input_data, input_labels, positive_class, bag_count, instance_count):\n",
        "    \"\"\"\n",
        "    Create bags of instances for MIL.\n",
        "    Each bag is labeled as positive if it contains at least one instance of the positive class.\n",
        "    Otherwise, it is labeled as negative.\n",
        "    \"\"\"\n",
        "    bags = []\n",
        "    bag_labels = []\n",
        "\n",
        "    # Normalize input data\n",
        "    input_data = input_data / 255.0\n",
        "\n",
        "    # Count positive samples\n",
        "    count = 0\n",
        "\n",
        "    for _ in range(bag_count):\n",
        "        # Randomly sample instances for the bag\n",
        "        index = np.random.choice(input_data.shape[0], instance_count, replace=False)\n",
        "        instances_data = input_data[index]\n",
        "        instances_labels = input_labels[index]\n",
        "\n",
        "        # By default, the bag is labeled as negative\n",
        "        bag_label = 0\n",
        "\n",
        "        # Check if there is at least one positive instance in the bag\n",
        "        if positive_class in instances_labels:\n",
        "            bag_label = 1  # Positive bag\n",
        "            count += 1\n",
        "\n",
        "        bags.append(instances_data)\n",
        "        bag_labels.append(np.array([bag_label]))\n",
        "\n",
        "    print(f\"Positive bags: {count}\")\n",
        "    print(f\"Negative bags: {bag_count - count}\")\n",
        "\n",
        "    # Convert bags to a tensor of shape (bag_count, instance_count, *instance_shape)\n",
        "    bags = np.stack(bags, axis=0)\n",
        "    bag_labels = np.array(bag_labels)\n",
        "\n",
        "    return bags, bag_labels\n",
        "\n",
        "# Load the MNIST dataset\n",
        "train_dataset = MNIST(root=\"./data\", train=True, download=True, transform=ToTensor())\n",
        "val_dataset = MNIST(root=\"./data\", train=False, download=True, transform=ToTensor())\n",
        "\n",
        "# Convert datasets to NumPy arrays\n",
        "x_train = train_dataset.data.numpy()\n",
        "y_train = train_dataset.targets.numpy()\n",
        "x_val = val_dataset.data.numpy()\n",
        "y_val = val_dataset.targets.numpy()\n",
        "\n",
        "# Create training data\n",
        "train_data, train_labels = create_bags(x_train, y_train, POSITIVE_CLASS, BAG_COUNT, BAG_SIZE)\n",
        "\n",
        "# Create validation data\n",
        "val_data, val_labels = create_bags(x_val, y_val, POSITIVE_CLASS, VAL_BAG_COUNT, BAG_SIZE)\n",
        "\n",
        "# Custom PyTorch Dataset for MIL\n",
        "class MILDataset(Dataset):\n",
        "    def __init__(self, bags, labels):\n",
        "        self.bags = bags\n",
        "        self.labels = labels\n",
        "\n",
        "    def __len__(self):\n",
        "        return len(self.bags)\n",
        "\n",
        "    def __getitem__(self, idx):\n",
        "        bag = torch.tensor(self.bags[idx], dtype=torch.float32)  # Shape: (instance_count, *instance_shape)\n",
        "        label = torch.tensor(self.labels[idx], dtype=torch.long)  # Shape: (1,)\n",
        "        return bag, label"
      ],
      "metadata": {
        "colab": {
          "base_uri": "https://localhost:8080/"
        },
        "id": "UX0zOcuNMRgO",
        "outputId": "a6f673b6-6c50-4e88-9fe9-01c5081edf65"
      },
      "execution_count": 3,
      "outputs": [
        {
          "output_type": "stream",
          "name": "stdout",
          "text": [
            "Positive bags: 302\n",
            "Negative bags: 698\n",
            "Positive bags: 93\n",
            "Negative bags: 207\n"
          ]
        }
      ]
    },
    {
      "cell_type": "markdown",
      "source": [
        "## Create the model\n",
        "\n",
        "We will now build the attention layer, prepare some utilities, then build and train the\n",
        "entire model.\n",
        "\n",
        "### Attention operator implementation\n",
        "\n",
        "The output size of this layer is decided by the size of a single bag.\n",
        "\n",
        "The attention mechanism uses a weighted average of instances in a bag, in which the sum\n",
        "of the weights must equal to 1 (invariant of the bag size).\n",
        "\n",
        "The weight matrices (parameters) are **w** and **v**. To include positive and negative\n",
        "values, hyperbolic tangent element-wise non-linearity is utilized.\n",
        "\n",
        "A **Gated attention mechanism** can be used to deal with complex relations. Another weight\n",
        "matrix, **u**, is added to the computation.\n",
        "A sigmoid non-linearity is used to overcome approximately linear behavior for *x* ∈ [−1, 1]\n",
        "by hyperbolic tangent non-linearity."
      ],
      "metadata": {
        "id": "Rm9wXbiMONc1"
      }
    },
    {
      "cell_type": "code",
      "source": [
        "import torch.nn.functional as F\n",
        "\n",
        "class MILAttentionLayer(nn.Module):\n",
        "    \"\"\"Implementation of the attention-based Deep MIL layer.\n",
        "\n",
        "    Args:\n",
        "        input_dim: Positive Integer. Dimension of the input features.\n",
        "        weight_params_dim: Positive Integer. Dimension of the weight matrix.\n",
        "        use_gated: Boolean, whether or not to use the gated mechanism.\n",
        "    \"\"\"\n",
        "\n",
        "    def __init__(self, input_dim, weight_params_dim, use_gated=False):\n",
        "        super(MILAttentionLayer, self).__init__()\n",
        "        self.input_dim = input_dim\n",
        "        self.weight_params_dim = weight_params_dim\n",
        "        self.use_gated = use_gated\n",
        "\n",
        "        # Weight matrices\n",
        "        self.v = nn.Linear(input_dim, weight_params_dim)  # v: (input_dim, weight_params_dim)\n",
        "        self.w = nn.Linear(weight_params_dim, 1)  # w: (weight_params_dim, 1)\n",
        "\n",
        "        if self.use_gated:\n",
        "            self.u = nn.Linear(input_dim, weight_params_dim)  # u: (input_dim, weight_params_dim)\n",
        "        else:\n",
        "            self.u = None\n",
        "\n",
        "    def forward(self, instances):\n",
        "        \"\"\"\n",
        "        Args:\n",
        "            instances: Tensor of shape (batch_size, bag_size, input_dim).\n",
        "\n",
        "        Returns:\n",
        "            attention_scores: Tensor of shape (batch_size, bag_size, 1).\n",
        "        \"\"\"\n",
        "        # Compute attention scores\n",
        "        if self.use_gated:\n",
        "            # Gated mechanism: tanh(v * h_k) * sigmoid(u * h_k)\n",
        "            gate = torch.sigmoid(self.u(instances))  # (batch_size, bag_size, weight_params_dim)\n",
        "            attention = torch.tanh(self.v(instances)) * gate  # (batch_size, bag_size, weight_params_dim)\n",
        "        else:\n",
        "            # Standard mechanism: tanh(v * h_k)\n",
        "            attention = torch.tanh(self.v(instances))  # (batch_size, bag_size, weight_params_dim)\n",
        "\n",
        "        # Compute final attention scores\n",
        "        attention_scores = self.w(attention)  # (batch_size, bag_size, 1)\n",
        "\n",
        "        # Apply softmax over the bag dimension\n",
        "        attention_scores = F.softmax(attention_scores, dim=1)  # (batch_size, bag_size, 1)\n",
        "\n",
        "        return attention_scores"
      ],
      "metadata": {
        "id": "0Sj5iCZoNDpi"
      },
      "execution_count": 4,
      "outputs": []
    },
    {
      "cell_type": "markdown",
      "source": [
        "## Visualizer tool\n",
        "\n",
        "Plot the number of bags (given by `PLOT_SIZE`) with respect to the class.\n",
        "\n",
        "Moreover, if activated, the class label prediction with its associated instance score\n",
        "for each bag (after the model has been trained) can be seen."
      ],
      "metadata": {
        "id": "bLqejL7XOvCZ"
      }
    },
    {
      "cell_type": "code",
      "source": [
        "def plot(data, labels, bag_class, predictions=None, attention_weights=None):\n",
        "    \"\"\"\n",
        "    Utility for plotting bags and attention weights.\n",
        "\n",
        "    Args:\n",
        "        data: Input data that contains the bags of instances.\n",
        "        labels: The associated bag labels of the input data.\n",
        "        bag_class: String name of the desired bag class.\n",
        "            The options are: \"positive\" or \"negative\".\n",
        "        predictions: Class labels model predictions.\n",
        "            If not provided, ground truth labels will be used.\n",
        "        attention_weights: Attention weights for each instance within the input data.\n",
        "            If not provided, the values won't be displayed.\n",
        "    \"\"\"\n",
        "    labels = np.array(labels).reshape(-1)\n",
        "\n",
        "    if bag_class == \"positive\":\n",
        "        if predictions is not None:\n",
        "            # Use predicted positive bags\n",
        "            labels = np.where(predictions.argmax(1) == 1)[0]\n",
        "        else:\n",
        "            # Use ground truth positive bags\n",
        "            labels = np.where(labels == 1)[0]\n",
        "    elif bag_class == \"negative\":\n",
        "        if predictions is not None:\n",
        "            # Use predicted negative bags\n",
        "            labels = np.where(predictions.argmax(1) == 0)[0]\n",
        "        else:\n",
        "            # Use ground truth negative bags\n",
        "            labels = np.where(labels == 0)[0]\n",
        "    else:\n",
        "        print(f\"There is no class {bag_class}\")\n",
        "        return\n",
        "\n",
        "    # Select bags to plot\n",
        "    bags = np.array(data)[labels[:PLOT_SIZE]]\n",
        "    print(f\"The bag class label is {bag_class}\")\n",
        "\n",
        "    # Plot each bag\n",
        "    for i in range(min(PLOT_SIZE, len(labels))):\n",
        "        figure = plt.figure(figsize=(8, 8))\n",
        "        print(f\"Bag number: {labels[i]}\")\n",
        "        for j in range(BAG_SIZE):\n",
        "            image = bags[i][j]  # Get the instance\n",
        "            figure.add_subplot(1, BAG_SIZE, j + 1)\n",
        "            plt.grid(False)\n",
        "            if attention_weights is not None:\n",
        "                # Extract the scalar value from the numpy array and format it\n",
        "                attention_value = attention_weights[labels[i], j, 0]  # Shape: (300, 3, 1)\n",
        "                plt.title(f\"Attention: {attention_value:.2f}\")\n",
        "            plt.imshow(image, cmap=\"gray\")\n",
        "        plt.show()\n",
        "\n",
        "# Example usage\n",
        "# Assuming val_data, val_labels, and model predictions are available\n",
        "\n",
        "# Plot some validation data bags per class\n",
        "plot(val_data, val_labels, \"positive\")\n",
        "plot(val_data, val_labels, \"negative\")\n",
        "\n",
        "# If you have model predictions and attention weights, you can use them like this:\n",
        "# predictions = model(val_data)  # Example model predictions\n",
        "# attention_weights = ...  # Example attention weights\n",
        "# plot(val_data, val_labels, \"positive\", predictions=predictions, attention_weights=attention_weights)"
      ],
      "metadata": {
        "colab": {
          "base_uri": "https://localhost:8080/",
          "height": 1000
        },
        "id": "VNwCp8XwO-Jt",
        "outputId": "5814ea3a-d3fe-4b0c-9cf4-e801230bc11a"
      },
      "execution_count": 5,
      "outputs": [
        {
          "output_type": "stream",
          "name": "stdout",
          "text": [
            "The bag class label is positive\n",
            "Bag number: 0\n"
          ]
        },
        {
          "output_type": "display_data",
          "data": {
            "text/plain": [
              "<Figure size 800x800 with 3 Axes>"
            ],
            "image/png": "[encoded data removed]"
          },
          "metadata": {}
        },
        {
          "output_type": "stream",
          "name": "stdout",
          "text": [
            "Bag number: 6\n"
          ]
        },
        {
          "output_type": "display_data",
          "data": {
            "text/plain": [
              "<Figure size 800x800 with 3 Axes>"
            ],
            "image/png": "[encoded data removed]"
          },
          "metadata": {}
        },
        {
          "output_type": "stream",
          "name": "stdout",
          "text": [
            "Bag number: 9\n"
          ]
        },
        {
          "output_type": "display_data",
          "data": {
            "text/plain": [
              "<Figure size 800x800 with 3 Axes>"
            ],
            "image/png": "[encoded data removed]"
          },
          "metadata": {}
        },
        {
          "output_type": "stream",
          "name": "stdout",
          "text": [
            "The bag class label is negative\n",
            "Bag number: 1\n"
          ]
        },
        {
          "output_type": "display_data",
          "data": {
            "text/plain": [
              "<Figure size 800x800 with 3 Axes>"
            ],
            "image/png": "[encoded data removed]"
          },
          "metadata": {}
        },
        {
          "output_type": "stream",
          "name": "stdout",
          "text": [
            "Bag number: 2\n"
          ]
        },
        {
          "output_type": "display_data",
          "data": {
            "text/plain": [
              "<Figure size 800x800 with 3 Axes>"
            ],
            "image/png": "[encoded data removed]"
          },
          "metadata": {}
        },
        {
          "output_type": "stream",
          "name": "stdout",
          "text": [
            "Bag number: 3\n"
          ]
        },
        {
          "output_type": "display_data",
          "data": {
            "text/plain": [
              "<Figure size 800x800 with 3 Axes>"
            ],
            "image/png": "[encoded data removed]"
          },
          "metadata": {}
        }
      ]
    },
    {
      "cell_type": "markdown",
      "source": [
        "## Create model\n",
        "\n",
        "First we will create some embeddings per instance, invoke the attention operator and then\n",
        "use the softmax function to output the class probabilities."
      ],
      "metadata": {
        "id": "6PvlElbDPje4"
      }
    },
    {
      "cell_type": "code",
      "source": [
        "class MILModel(nn.Module):\n",
        "    \"\"\"Attention-based Deep MIL model.\n",
        "\n",
        "    Args:\n",
        "        instance_shape: Shape of each instance in the bag (e.g., (28, 28) for MNIST).\n",
        "        hidden_dim: Dimension of the hidden layers.\n",
        "        weight_params_dim: Dimension of the weight matrix in the attention layer.\n",
        "        num_classes: Number of output classes.\n",
        "        use_gated: Boolean, whether or not to use the gated mechanism in the attention layer.\n",
        "    \"\"\"\n",
        "\n",
        "    def __init__(self, instance_shape, hidden_dim=128, weight_params_dim=256, num_classes=2, use_gated=True):\n",
        "        super(MILModel, self).__init__()\n",
        "        self.instance_shape = instance_shape\n",
        "        self.hidden_dim = hidden_dim\n",
        "        self.weight_params_dim = weight_params_dim\n",
        "        self.num_classes = num_classes\n",
        "        self.use_gated = use_gated\n",
        "\n",
        "        # Flatten layer\n",
        "        self.flatten = nn.Flatten()\n",
        "\n",
        "        # Shared dense layers for feature extraction\n",
        "        self.shared_dense_1 = nn.Linear(instance_shape[0] * instance_shape[1], hidden_dim)\n",
        "        self.shared_dense_2 = nn.Linear(hidden_dim, hidden_dim // 2)\n",
        "\n",
        "        # Attention layer\n",
        "        self.attention_layer = MILAttentionLayer(hidden_dim // 2, weight_params_dim, use_gated)\n",
        "\n",
        "        # Classification layer\n",
        "        self.classifier = nn.Linear((hidden_dim // 2) * BAG_SIZE, num_classes)\n",
        "\n",
        "    def forward(self, bags):\n",
        "        \"\"\"\n",
        "        Args:\n",
        "            bags: Tensor of shape (batch_size, bag_size, *instance_shape).\n",
        "\n",
        "        Returns:\n",
        "            logits: Tensor of shape (batch_size, num_classes).\n",
        "            attention_scores: Tensor of shape (batch_size, bag_size, 1).\n",
        "        \"\"\"\n",
        "        batch_size, bag_size, *instance_dims = bags.shape\n",
        "\n",
        "        # Flatten the instance dimensions\n",
        "        bags = bags.view(batch_size * bag_size, -1)  # (batch_size * bag_size, instance_shape[0] * instance_shape[1])\n",
        "\n",
        "        # Extract features for each instance\n",
        "        embeddings = F.relu(self.shared_dense_1(bags))  # (batch_size * bag_size, hidden_dim)\n",
        "        embeddings = F.relu(self.shared_dense_2(embeddings))  # (batch_size * bag_size, hidden_dim // 2)\n",
        "\n",
        "        # Reshape embeddings to (batch_size, bag_size, hidden_dim // 2)\n",
        "        embeddings = embeddings.view(batch_size, bag_size, -1)\n",
        "\n",
        "        # Compute attention scores\n",
        "        attention_scores = self.attention_layer(embeddings)  # (batch_size, bag_size, 1)\n",
        "\n",
        "        # Multiply attention scores with embeddings\n",
        "        weighted_embeddings = embeddings * attention_scores  # (batch_size, bag_size, hidden_dim // 2)\n",
        "\n",
        "        # Concatenate weighted embeddings\n",
        "        concat_embeddings = weighted_embeddings.view(batch_size, -1)  # (batch_size, bag_size * hidden_dim // 2)\n",
        "\n",
        "        # Classify\n",
        "        logits = self.classifier(concat_embeddings)  # (batch_size, num_classes)\n",
        "\n",
        "        return logits, attention_scores"
      ],
      "metadata": {
        "id": "_y5VlQ-ePlSb"
      },
      "execution_count": 6,
      "outputs": []
    },
    {
      "cell_type": "markdown",
      "source": [
        "## Class weights\n",
        "\n",
        "Since this kind of problem could simply turn into imbalanced data classification problem,\n",
        "class weighting should be considered.\n",
        "\n",
        "Let's say there are 1000 bags. There often could be cases were ~90 % of the bags do not\n",
        "contain any positive label and ~10 % do.\n",
        "Such data can be referred to as **Imbalanced data**.\n",
        "\n",
        "Using class weights, the model will tend to give a higher weight to the rare class."
      ],
      "metadata": {
        "id": "oo7wtZvoPop5"
      }
    },
    {
      "cell_type": "code",
      "source": [
        "def compute_class_weights(labels):\n",
        "    \"\"\"\n",
        "    Compute class weights for imbalanced data.\n",
        "\n",
        "    Args:\n",
        "        labels: Array of bag labels (0 for negative, 1 for positive).\n",
        "\n",
        "    Returns:\n",
        "        class_weights: Dictionary with class weights for negative (0) and positive (1) classes.\n",
        "    \"\"\"\n",
        "    # Count number of positive and negative bags\n",
        "    negative_count = len(np.where(labels == 0)[0])\n",
        "    positive_count = len(np.where(labels == 1)[0])\n",
        "    total_count = negative_count + positive_count\n",
        "\n",
        "    # Compute class weights\n",
        "    class_weights = {\n",
        "        0: (1 / negative_count) * (total_count / 2),  # Weight for negative class\n",
        "        1: (1 / positive_count) * (total_count / 2),  # Weight for positive class\n",
        "    }\n",
        "\n",
        "    return class_weights"
      ],
      "metadata": {
        "id": "VN8A_Cp_Pnxb"
      },
      "execution_count": 7,
      "outputs": []
    },
    {
      "cell_type": "markdown",
      "source": [
        "## Build and train model\n",
        "\n",
        "The model is built and trained in this section."
      ],
      "metadata": {
        "id": "9zXgRIEhQVhV"
      }
    },
    {
      "cell_type": "code",
      "source": [
        "def train(train_data, train_labels, val_data, val_labels, model, num_epochs=20, patience=10):\n",
        "    \"\"\"\n",
        "    Train the MIL model.\n",
        "\n",
        "    Args:\n",
        "        train_data: Training data (bags of instances).\n",
        "        train_labels: Training labels.\n",
        "        val_data: Validation data.\n",
        "        val_labels: Validation labels.\n",
        "        model: The MIL model to train.\n",
        "        num_epochs: Number of training epochs.\n",
        "        patience: Number of epochs to wait for improvement before early stopping.\n",
        "\n",
        "    Returns:\n",
        "        model: The trained model.\n",
        "    \"\"\"\n",
        "    # Compute class weights\n",
        "    class_weights = compute_class_weights(train_labels)\n",
        "    class_weights_tensor = torch.tensor([class_weights[0], class_weights[1]], dtype=torch.float32)\n",
        "\n",
        "    # Define loss function with class weights\n",
        "    criterion = nn.CrossEntropyLoss(weight=class_weights_tensor)\n",
        "\n",
        "    # Define optimizer\n",
        "    optimizer = optim.Adam(model.parameters(), lr=0.001)\n",
        "\n",
        "    # Create DataLoader for training and validation\n",
        "    train_dataset = MILDataset(train_data, train_labels)\n",
        "    val_dataset = MILDataset(val_data, val_labels)\n",
        "\n",
        "    train_loader = DataLoader(train_dataset, batch_size=1, shuffle=True)\n",
        "    val_loader = DataLoader(val_dataset, batch_size=1, shuffle=False)\n",
        "\n",
        "    # Initialize variables for early stopping\n",
        "    best_val_loss = float(\"inf\")\n",
        "    epochs_without_improvement = 0\n",
        "\n",
        "    # Path to save the best model weights\n",
        "    file_path = \"best_model.pth\"\n",
        "\n",
        "    # Training loop\n",
        "    for epoch in range(num_epochs):\n",
        "        model.train()\n",
        "        running_loss = 0.0\n",
        "\n",
        "        # Training phase\n",
        "        for bags, labels in train_loader:\n",
        "            # Squeeze the labels tensor to remove extra dimensions\n",
        "            labels = labels.squeeze(0)  # Only remove the first dimension if its size is 1\n",
        "\n",
        "            # Forward pass\n",
        "            logits, _ = model(bags)\n",
        "            loss = criterion(logits, labels)\n",
        "\n",
        "            # Backward pass and optimization\n",
        "            optimizer.zero_grad()\n",
        "            loss.backward()\n",
        "            optimizer.step()\n",
        "\n",
        "            running_loss += loss.item()\n",
        "\n",
        "        # Validation phase\n",
        "        model.eval()\n",
        "        val_loss = 0.0\n",
        "        with torch.no_grad():\n",
        "            for bags, labels in val_loader:\n",
        "                # Squeeze the labels tensor to remove extra dimensions\n",
        "                labels = labels.squeeze(0)  # Only remove the first dimension if its size is 1\n",
        "\n",
        "                logits, _ = model(bags)\n",
        "                loss = criterion(logits, labels)\n",
        "                val_loss += loss.item()\n",
        "\n",
        "        # Average losses\n",
        "        train_loss = running_loss / len(train_loader)\n",
        "        val_loss = val_loss / len(val_loader)\n",
        "\n",
        "        print(f\"Epoch {epoch + 1}/{num_epochs}, Train Loss: {train_loss:.4f}, Val Loss: {val_loss:.4f}\")\n",
        "\n",
        "        # Check for early stopping\n",
        "        if val_loss < best_val_loss:\n",
        "            best_val_loss = val_loss\n",
        "            epochs_without_improvement = 0\n",
        "            # Save the best model weights\n",
        "            torch.save(model.state_dict(), file_path)\n",
        "        else:\n",
        "            epochs_without_improvement += 1\n",
        "            if epochs_without_improvement >= patience:\n",
        "                print(f\"Early stopping at epoch {epoch + 1}\")\n",
        "                break\n",
        "\n",
        "    # Load the best model weights\n",
        "    model.load_state_dict(torch.load(file_path))\n",
        "\n",
        "    return model\n",
        "\n",
        "# Define the instance shape (e.g., (28, 28) for MNIST)\n",
        "instance_shape = train_data[0][0].shape\n",
        "\n",
        "# Build the model(s)\n",
        "models = [MILModel(instance_shape, hidden_dim=128, weight_params_dim=256, num_classes=2, use_gated=True)\n",
        "          for _ in range(ENSEMBLE_AVG_COUNT)]\n",
        "\n",
        "# Show single model architecture\n",
        "print(models[0])\n",
        "\n",
        "# Train the model(s)\n",
        "trained_models = []\n",
        "for model in tqdm(models):\n",
        "    trained_model = train(train_data, train_labels, val_data, val_labels, model)\n",
        "    trained_models.append(trained_model)"
      ],
      "metadata": {
        "colab": {
          "base_uri": "https://localhost:8080/"
        },
        "id": "VpdzpoW4QAbM",
        "outputId": "cb5140c6-b0b7-41b7-e3f7-d6c2c19fb6be"
      },
      "execution_count": 8,
      "outputs": [
        {
          "output_type": "stream",
          "name": "stdout",
          "text": [
            "MILModel(\n",
            "  (flatten): Flatten(start_dim=1, end_dim=-1)\n",
            "  (shared_dense_1): Linear(in_features=784, out_features=128, bias=True)\n",
            "  (shared_dense_2): Linear(in_features=128, out_features=64, bias=True)\n",
            "  (attention_layer): MILAttentionLayer(\n",
            "    (v): Linear(in_features=64, out_features=256, bias=True)\n",
            "    (w): Linear(in_features=256, out_features=1, bias=True)\n",
            "    (u): Linear(in_features=64, out_features=256, bias=True)\n",
            "  )\n",
            "  (classifier): Linear(in_features=192, out_features=2, bias=True)\n",
            ")\n"
          ]
        },
        {
          "output_type": "stream",
          "name": "stderr",
          "text": [
            "\r  0%|          | 0/1 [00:00<?, ?it/s]"
          ]
        },
        {
          "output_type": "stream",
          "name": "stdout",
          "text": [
            "Epoch 1/20, Train Loss: 0.2017, Val Loss: 0.0859\n",
            "Epoch 2/20, Train Loss: 0.1027, Val Loss: 0.0607\n",
            "Epoch 3/20, Train Loss: 0.0812, Val Loss: 0.0640\n",
            "Epoch 4/20, Train Loss: 0.0636, Val Loss: 0.0490\n",
            "Epoch 5/20, Train Loss: 0.0520, Val Loss: 0.0256\n",
            "Epoch 6/20, Train Loss: 0.0496, Val Loss: 0.0282\n",
            "Epoch 7/20, Train Loss: 0.0111, Val Loss: 0.0558\n",
            "Epoch 8/20, Train Loss: 0.0053, Val Loss: 0.0337\n",
            "Epoch 9/20, Train Loss: 0.0013, Val Loss: 0.2827\n",
            "Epoch 10/20, Train Loss: 0.0543, Val Loss: 0.0165\n",
            "Epoch 11/20, Train Loss: 0.0033, Val Loss: 0.0108\n",
            "Epoch 12/20, Train Loss: 0.0002, Val Loss: 0.0190\n",
            "Epoch 13/20, Train Loss: 0.0003, Val Loss: 0.0171\n",
            "Epoch 14/20, Train Loss: 0.0003, Val Loss: 0.1142\n",
            "Epoch 15/20, Train Loss: 0.0451, Val Loss: 0.0486\n",
            "Epoch 16/20, Train Loss: 0.0129, Val Loss: 0.0874\n",
            "Epoch 17/20, Train Loss: 0.0104, Val Loss: 0.0396\n",
            "Epoch 18/20, Train Loss: 0.0001, Val Loss: 0.0431\n",
            "Epoch 19/20, Train Loss: 0.0000, Val Loss: 0.0435\n"
          ]
        },
        {
          "output_type": "stream",
          "name": "stderr",
          "text": [
            "<ipython-input-8-9587cf34fca5>:93: FutureWarning: You are using `torch.load` with `weights_only=False` (the current default value), which uses the default pickle module implicitly. It is possible to construct malicious pickle data which will execute arbitrary code during unpickling (See https://github.com/pytorch/pytorch/blob/main/SECURITY.md#untrusted-models for more details). In a future release, the default value for `weights_only` will be flipped to `True`. This limits the functions that could be executed during unpickling. Arbitrary objects will no longer be allowed to be loaded via this mode unless they are explicitly allowlisted by the user via `torch.serialization.add_safe_globals`. We recommend you start setting `weights_only=True` for any use case where you don't have full control of the loaded file. Please open an issue on GitHub for any issues related to this experimental feature.\n",
            "  model.load_state_dict(torch.load(file_path))\n",
            "100%|██████████| 1/1 [01:16<00:00, 76.08s/it]"
          ]
        },
        {
          "output_type": "stream",
          "name": "stdout",
          "text": [
            "Epoch 20/20, Train Loss: 0.0000, Val Loss: 0.0446\n"
          ]
        },
        {
          "output_type": "stream",
          "name": "stderr",
          "text": [
            "\n"
          ]
        }
      ]
    },
    {
      "cell_type": "markdown",
      "source": [
        "## Model evaluation\n",
        "\n",
        "The models are now ready for evaluation.\n",
        "With each model we also create an associated intermediate model to get the\n",
        "weights from the attention layer.\n",
        "\n",
        "We will compute a prediction for each of our `ENSEMBLE_AVG_COUNT` models, and\n",
        "average them together for our final prediction."
      ],
      "metadata": {
        "id": "h0-vh7rpfl_d"
      }
    },
    {
      "cell_type": "code",
      "source": [
        "def predict(data, labels, trained_models):\n",
        "    \"\"\"\n",
        "    Evaluate the trained models and compute predictions and attention weights.\n",
        "\n",
        "    Args:\n",
        "        data: Input data (bags of instances).\n",
        "        labels: Ground truth labels.\n",
        "        trained_models: List of trained models.\n",
        "\n",
        "    Returns:\n",
        "        avg_predictions: Average predictions across models.\n",
        "        avg_attention_weights: Average attention weights across models.\n",
        "    \"\"\"\n",
        "    # Collect info per model\n",
        "    models_predictions = []\n",
        "    models_attention_weights = []\n",
        "    models_losses = []\n",
        "    models_accuracies = []\n",
        "\n",
        "    for model in trained_models:\n",
        "        model.eval()  # Set model to evaluation mode\n",
        "        predictions = []\n",
        "        attention_weights = []\n",
        "        total_loss = 0.0\n",
        "        total_correct = 0\n",
        "\n",
        "        with torch.no_grad():\n",
        "            for bags, labels_batch in DataLoader(MILDataset(data, labels), batch_size=1, shuffle=False):\n",
        "                # Forward pass\n",
        "                logits, attn_weights = model(bags)\n",
        "\n",
        "                # Compute predictions\n",
        "                preds = torch.softmax(logits, dim=1)\n",
        "                predictions.append(preds.numpy())\n",
        "\n",
        "                # Collect attention weights\n",
        "                attention_weights.append(attn_weights.numpy())\n",
        "\n",
        "                # Compute loss and accuracy\n",
        "                loss = nn.CrossEntropyLoss()(logits, labels_batch.squeeze(0))\n",
        "                total_loss += loss.item()\n",
        "                total_correct += (preds.argmax(dim=1) == labels_batch.squeeze(0)).sum().item()\n",
        "\n",
        "        # Store results for this model\n",
        "        models_predictions.append(np.concatenate(predictions, axis=0))\n",
        "        models_attention_weights.append(np.concatenate(attention_weights, axis=0))\n",
        "        models_losses.append(total_loss / len(data))\n",
        "        models_accuracies.append(total_correct / len(data))\n",
        "\n",
        "    # Compute average loss and accuracy\n",
        "    avg_loss = np.mean(models_losses)\n",
        "    avg_accuracy = np.mean(models_accuracies)\n",
        "    print(\n",
        "        f\"The average loss and accuracy are {avg_loss:.2f}\"\n",
        "        f\" and {100 * avg_accuracy:.2f} % resp.\"\n",
        "    )\n",
        "\n",
        "    # Compute average predictions and attention weights\n",
        "    avg_predictions = np.mean(models_predictions, axis=0)\n",
        "    avg_attention_weights = np.mean(models_attention_weights, axis=0)\n",
        "\n",
        "    return avg_predictions, avg_attention_weights\n",
        "\n",
        "# Evaluate and predict classes and attention scores on validation data\n",
        "class_predictions, attention_params = predict(val_data, val_labels, trained_models)\n",
        "\n",
        "# Plot some results from our validation data\n",
        "plot(\n",
        "    val_data,\n",
        "    val_labels,\n",
        "    \"positive\",\n",
        "    predictions=class_predictions,\n",
        "    attention_weights=attention_params,\n",
        ")\n",
        "plot(\n",
        "    val_data,\n",
        "    val_labels,\n",
        "    \"negative\",\n",
        "    predictions=class_predictions,\n",
        "    attention_weights=attention_params,\n",
        ")"
      ],
      "metadata": {
        "colab": {
          "base_uri": "https://localhost:8080/",
          "height": 1000
        },
        "id": "PbBr1U3vfmrg",
        "outputId": "6dd8ee9f-559e-4270-c654-53163ca7ab8f"
      },
      "execution_count": 9,
      "outputs": [
        {
          "output_type": "stream",
          "name": "stdout",
          "text": [
            "The average loss and accuracy are 0.01 and 99.67 % resp.\n",
            "The bag class label is positive\n",
            "Bag number: 0\n"
          ]
        },
        {
          "output_type": "display_data",
          "data": {
            "text/plain": [
              "<Figure size 800x800 with 3 Axes>"
            ],
            "image/png": "[encoded data removed]"
          },
          "metadata": {}
        },
        {
          "output_type": "stream",
          "name": "stdout",
          "text": [
            "Bag number: 6\n"
          ]
        },
        {
          "output_type": "display_data",
          "data": {
            "text/plain": [
              "<Figure size 800x800 with 3 Axes>"
            ],
            "image/png": "[encoded data removed]"
          },
          "metadata": {}
        },
        {
          "output_type": "stream",
          "name": "stdout",
          "text": [
            "Bag number: 9\n"
          ]
        },
        {
          "output_type": "display_data",
          "data": {
            "text/plain": [
              "<Figure size 800x800 with 3 Axes>"
            ],
            "image/png": "[encoded data removed]"
          },
          "metadata": {}
        },
        {
          "output_type": "stream",
          "name": "stdout",
          "text": [
            "The bag class label is negative\n",
            "Bag number: 1\n"
          ]
        },
        {
          "output_type": "display_data",
          "data": {
            "text/plain": [
              "<Figure size 800x800 with 3 Axes>"
            ],
            "image/png": "[encoded data removed]"
          },
          "metadata": {}
        },
        {
          "output_type": "stream",
          "name": "stdout",
          "text": [
            "Bag number: 2\n"
          ]
        },
        {
          "output_type": "display_data",
          "data": {
            "text/plain": [
              "<Figure size 800x800 with 3 Axes>"
            ],
            "image/png": "[encoded data removed]"
          },
          "metadata": {}
        },
        {
          "output_type": "stream",
          "name": "stdout",
          "text": [
            "Bag number: 3\n"
          ]
        },
        {
          "output_type": "display_data",
          "data": {
            "text/plain": [
              "<Figure size 800x800 with 3 Axes>"
            ],
            "image/png": "[encoded data removed]"
          },
          "metadata": {}
        }
      ]
    },
    {
      "cell_type": "markdown",
      "source": [
        "## Conclusion\n",
        "\n",
        "From the above plot, you can notice that the weights always sum to 1. In a\n",
        "positively predict bag, the instance which resulted in the positive labeling will have\n",
        "a substantially higher attention score than the rest of the bag. However, in a negatively\n",
        "predicted bag, there are two cases:\n",
        "\n",
        "* All instances will have approximately similar scores.\n",
        "* An instance will have relatively higher score (but not as high as of a positive instance).\n",
        "This is because the feature space of this instance is close to that of the positive instance.\n",
        "\n",
        "## Remarks\n",
        "\n",
        "- If the model is overfit, the weights will be equally distributed for all bags. Hence,\n",
        "the regularization techniques are necessary.\n",
        "- In the paper, the bag sizes can differ from one bag to another. For simplicity, the\n",
        "bag sizes are fixed here.\n",
        "- In order not to rely on the random initial weights of a single model, averaging ensemble\n",
        "methods should be considered."
      ],
      "metadata": {
        "id": "R5ZpmukDfKPo"
      }
    }
  ]
}