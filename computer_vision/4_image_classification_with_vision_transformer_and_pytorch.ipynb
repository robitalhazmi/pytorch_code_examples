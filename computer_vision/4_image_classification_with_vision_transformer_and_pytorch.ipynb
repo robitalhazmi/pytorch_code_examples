{
  "cells": [
    {
      "cell_type": "markdown",
      "metadata": {
        "id": "Kvf4HLw1q3VO"
      },
      "source": [
        "# Image classification with Vision Transformer and Pytorch"
      ]
    },
    {
      "cell_type": "markdown",
      "metadata": {
        "id": "DCqis1S5q48G"
      },
      "source": [
        "## Introduction\n",
        "\n",
        "This example implements the [Vision Transformer (ViT)](https://arxiv.org/abs/2010.11929)\n",
        "model by Alexey Dosovitskiy et al. for image classification,\n",
        "and demonstrates it on the CIFAR-100 dataset.\n",
        "The ViT model applies the Transformer architecture with self-attention to sequences of\n",
        "image patches, without using convolution layers."
      ]
    },
    {
      "cell_type": "markdown",
      "metadata": {
        "id": "_05Eoo0aq8mT"
      },
      "source": [
        "## Setup"
      ]
    },
    {
      "cell_type": "code",
      "execution_count": 22,
      "metadata": {
        "colab": {
          "base_uri": "https://localhost:8080/"
        },
        "id": "swj44Yfiqc34",
        "outputId": "a581407f-db92-4aa3-9ca4-cc5834a340a5"
      },
      "outputs": [
        {
          "name": "stdout",
          "output_type": "stream",
          "text": [
            "Using device: cuda\n"
          ]
        }
      ],
      "source": [
        "import torch\n",
        "import torch.nn as nn\n",
        "import torch.optim as optim\n",
        "from torchvision import datasets, transforms\n",
        "from torch.utils.data import DataLoader, random_split\n",
        "import matplotlib.pyplot as plt\n",
        "import numpy as np\n",
        "\n",
        "# Check for device\n",
        "device = torch.device(\"cuda\" if torch.cuda.is_available() else \"cpu\")\n",
        "print(f\"Using device: {device}\")"
      ]
    },
    {
      "cell_type": "markdown",
      "metadata": {
        "id": "9vwOngDcrSt3"
      },
      "source": [
        "## Prepare the data"
      ]
    },
    {
      "cell_type": "code",
      "execution_count": 23,
      "metadata": {
        "colab": {
          "base_uri": "https://localhost:8080/"
        },
        "id": "K6PGxClwrGgY",
        "outputId": "96512dd9-c506-40c4-ecb7-ce9abfe05cad"
      },
      "outputs": [
        {
          "name": "stdout",
          "output_type": "stream",
          "text": [
            "Files already downloaded and verified\n",
            "Files already downloaded and verified\n",
            "x_train shape: (50000, 32, 32, 3) - y_train shape: (50000,)\n",
            "x_test shape: (10000, 32, 32, 3) - y_test shape: (10000,)\n"
          ]
        }
      ],
      "source": [
        "# Define CIFAR-100 dataset details\n",
        "num_classes = 100\n",
        "input_shape = (32, 32, 3)\n",
        "\n",
        "# Transformations for CIFAR-100 dataset\n",
        "transform = transforms.Compose([\n",
        "    transforms.ToTensor(),\n",
        "    transforms.Normalize(mean=[0.5, 0.5, 0.5], std=[0.5, 0.5, 0.5])  # Normalize to [-1, 1]\n",
        "])\n",
        "\n",
        "# Load CIFAR-100 dataset\n",
        "train_dataset = datasets.CIFAR100(root=\"./data\", train=True, download=True, transform=transform)\n",
        "test_dataset = datasets.CIFAR100(root=\"./data\", train=False, download=True, transform=transform)\n",
        "\n",
        "# Check dataset shapes\n",
        "x_train_shape = (len(train_dataset),) + input_shape\n",
        "y_train_shape = (len(train_dataset),)\n",
        "x_test_shape = (len(test_dataset),) + input_shape\n",
        "y_test_shape = (len(test_dataset),)\n",
        "\n",
        "print(f\"x_train shape: {x_train_shape} - y_train shape: {y_train_shape}\")\n",
        "print(f\"x_test shape: {x_test_shape} - y_test shape: {y_test_shape}\")"
      ]
    },
    {
      "cell_type": "markdown",
      "metadata": {
        "id": "CnjS0boIrv5-"
      },
      "source": [
        "## Configure the hyperparameters"
      ]
    },
    {
      "cell_type": "code",
      "execution_count": 24,
      "metadata": {
        "colab": {
          "base_uri": "https://localhost:8080/"
        },
        "id": "OdpPLHPOrnyl",
        "outputId": "c4f89865-20d4-4245-f69d-e1ddca6419af"
      },
      "outputs": [
        {
          "name": "stdout",
          "output_type": "stream",
          "text": [
            "Learning Rate: 0.001\n",
            "Weight Decay: 0.0001\n",
            "Batch Size: 256\n",
            "Num Epochs: 10\n",
            "Image Size: 72\n",
            "Input Dim: 3\n",
            "Patch Size: 6\n",
            "Num Patches: 144\n",
            "Projection Dim: 64\n",
            "Num Heads: 4\n",
            "Transformer Units: [128, 64]\n",
            "Transformer Layers: 8\n",
            "MLP Head Units: [2048, 1024]\n"
          ]
        }
      ],
      "source": [
        "# Hyperparameters\n",
        "learning_rate = 0.001\n",
        "weight_decay = 0.0001\n",
        "batch_size = 256\n",
        "num_epochs = 10  # For real training, use num_epochs=100. 10 is for testing\n",
        "image_size = 72  # Resize input images to this size\n",
        "input_dim = 3  # RGB images\n",
        "patch_size = 6  # Size of patches extracted from input images\n",
        "num_patches = (image_size // patch_size) ** 2\n",
        "projection_dim = 64\n",
        "num_heads = 4\n",
        "transformer_units = [\n",
        "    projection_dim * 2,  # First transformer layer size\n",
        "    projection_dim,      # Second transformer layer size\n",
        "]\n",
        "transformer_layers = 8  # Number of transformer layers\n",
        "mlp_head_units = [\n",
        "    2048,  # First dense layer in the classifier head\n",
        "    1024,  # Second dense layer in the classifier head\n",
        "]\n",
        "\n",
        "# Print hyperparameters\n",
        "print(f\"Learning Rate: {learning_rate}\")\n",
        "print(f\"Weight Decay: {weight_decay}\")\n",
        "print(f\"Batch Size: {batch_size}\")\n",
        "print(f\"Num Epochs: {num_epochs}\")\n",
        "print(f\"Image Size: {image_size}\")\n",
        "print(f\"Input Dim: {input_dim}\")\n",
        "print(f\"Patch Size: {patch_size}\")\n",
        "print(f\"Num Patches: {num_patches}\")\n",
        "print(f\"Projection Dim: {projection_dim}\")\n",
        "print(f\"Num Heads: {num_heads}\")\n",
        "print(f\"Transformer Units: {transformer_units}\")\n",
        "print(f\"Transformer Layers: {transformer_layers}\")\n",
        "print(f\"MLP Head Units: {mlp_head_units}\")"
      ]
    },
    {
      "cell_type": "markdown",
      "metadata": {
        "id": "0rng7yXjsUmr"
      },
      "source": [
        "## Use data augmentation"
      ]
    },
    {
      "cell_type": "code",
      "execution_count": 32,
      "metadata": {
        "colab": {
          "base_uri": "https://localhost:8080/"
        },
        "id": "j5K9SXudrz3X",
        "outputId": "6a61b5b5-70f3-4f2f-b93f-0f1d5f3a7f42"
      },
      "outputs": [
        {
          "name": "stdout",
          "output_type": "stream",
          "text": [
            "Files already downloaded and verified\n",
            "Files already downloaded and verified\n"
          ]
        }
      ],
      "source": [
        "# Compute mean and standard deviation for normalization\n",
        "def compute_mean_std(dataset):\n",
        "    loader = torch.utils.data.DataLoader(dataset, batch_size=5000, shuffle=False, num_workers=2)\n",
        "    mean = 0.0\n",
        "    std = 0.0\n",
        "    total_samples = 0\n",
        "    for images, _ in loader:\n",
        "        batch_samples = images.size(0)\n",
        "        images = images.view(batch_samples, images.size(1), -1)\n",
        "        mean += images.mean(2).sum(0)\n",
        "        std += images.std(2).sum(0)\n",
        "        total_samples += batch_samples\n",
        "    mean /= total_samples\n",
        "    std /= total_samples\n",
        "    return mean, std\n",
        "\n",
        "train_mean, train_std = compute_mean_std(train_dataset)\n",
        "test_mean, test_std = compute_mean_std(test_dataset)\n",
        "\n",
        "# Data augmentation pipeline\n",
        "train_data_augmentation = transforms.Compose([\n",
        "    transforms.Resize((image_size, image_size)),  # Resizing to 72x72\n",
        "    transforms.RandomHorizontalFlip(),           # Random horizontal flip\n",
        "    transforms.RandomRotation(0.02 * 360),               # Random rotation by ±0.02 * 360 degrees\n",
        "    transforms.RandomResizedCrop(image_size, scale=(0.8, 1.0)),  # Random zoom\n",
        "    transforms.ToTensor(),                       # Convert to PyTorch tensor\n",
        "    transforms.Normalize(mean=train_mean.tolist(), std=train_std.tolist())  # Normalize using computed mean & std\n",
        "])\n",
        "\n",
        "test_transform = transforms.Compose([\n",
        "    transforms.Resize((image_size, image_size)),  # Resizing to 72x72\n",
        "    transforms.ToTensor(),\n",
        "    transforms.Normalize(mean=test_mean.tolist(), std=test_std.tolist())\n",
        "])\n",
        "\n",
        "# Updated training dataset with augmentation\n",
        "train_dataset_augmentation = datasets.CIFAR100(root=\"./data\", train=True, download=True, transform=train_data_augmentation)\n",
        "test_dataset = datasets.CIFAR100(root=\"./data\", train=False, download=True, transform=test_transform)"
      ]
    },
    {
      "cell_type": "markdown",
      "metadata": {
        "id": "Rajy-aOZwzrL"
      },
      "source": [
        "## Implement multilayer perceptron (MLP)"
      ]
    },
    {
      "cell_type": "code",
      "execution_count": 33,
      "metadata": {
        "id": "EpZ31g8Zw1RQ"
      },
      "outputs": [],
      "source": [
        "class MLP(nn.Module):\n",
        "    def __init__(self, input_dim, hidden_units, dropout_rate):\n",
        "        super(MLP, self).__init__()\n",
        "        self.layers = nn.ModuleList()\n",
        "        for units in hidden_units:\n",
        "            self.layers.append(nn.Linear(input_dim, units))  # Set in_features explicitly\n",
        "            self.layers.append(nn.GELU())\n",
        "            self.layers.append(nn.Dropout(dropout_rate))\n",
        "            input_dim = units  # Update input_dim for the next layer\n",
        "\n",
        "    def forward(self, x):\n",
        "        for layer in self.layers:\n",
        "            x = layer(x)\n",
        "        return x"
      ]
    },
    {
      "cell_type": "markdown",
      "metadata": {
        "id": "tOZOJ0bxxjBw"
      },
      "source": [
        "## Implement patch creation as a layer"
      ]
    },
    {
      "cell_type": "code",
      "execution_count": 34,
      "metadata": {
        "id": "RCN5y5yPxjOE"
      },
      "outputs": [],
      "source": [
        "class Patches(nn.Module):\n",
        "    def __init__(self, patch_size):\n",
        "        super(Patches, self).__init__()\n",
        "        self.patch_size = patch_size\n",
        "\n",
        "    def forward(self, images):\n",
        "        # Get input dimensions\n",
        "        batch_size, channels, height, width = images.size()\n",
        "        assert height % self.patch_size == 0 and width % self.patch_size == 0, \\\n",
        "            \"Image dimensions must be divisible by the patch size. {}\".format(images.size())\n",
        "\n",
        "        # Number of patches\n",
        "        num_patches_h = height // self.patch_size\n",
        "        num_patches_w = width // self.patch_size\n",
        "\n",
        "        # Rearrange input tensor into patches\n",
        "        patches = images.unfold(2, self.patch_size, self.patch_size)  # Unfold height\n",
        "        patches = patches.unfold(3, self.patch_size, self.patch_size)  # Unfold width\n",
        "        patches = patches.contiguous().view(\n",
        "            batch_size, channels, -1, self.patch_size, self.patch_size\n",
        "        )\n",
        "        patches = patches.permute(0, 2, 3, 4, 1)  # Rearrange to (batch, patches, h, w, c)\n",
        "        patches = patches.contiguous().view(\n",
        "            batch_size, num_patches_h * num_patches_w, -1\n",
        "        )  # Flatten patches to (batch, num_patches, patch_size * patch_size * channels)\n",
        "\n",
        "        return patches\n",
        "\n",
        "    def extra_repr(self):\n",
        "        return f\"patch_size={self.patch_size}\""
      ]
    },
    {
      "cell_type": "markdown",
      "metadata": {
        "id": "IvmP3ILXx11G"
      },
      "source": [
        "Let's display patches for a sample image"
      ]
    },
    {
      "cell_type": "code",
      "execution_count": 35,
      "metadata": {
        "colab": {
          "base_uri": "https://localhost:8080/",
          "height": 806
        },
        "id": "LDTfeuxaxzAl",
        "outputId": "82200e16-54c9-4695-d630-452aba615778"
      },
      "outputs": [
        {
          "data": {
            "image/png": "[encoded data removed]",
            "text/plain": [
              "<Figure size 400x400 with 1 Axes>"
            ]
          },
          "metadata": {},
          "output_type": "display_data"
        },
        {
          "name": "stdout",
          "output_type": "stream",
          "text": [
            "Image size: 72 X 72\n",
            "Patch size: 6 X 6\n",
            "Patches per image: 144\n",
            "Elements per patch: 108\n"
          ]
        },
        {
          "data": {
            "image/png": "[encoded data removed]",
            "text/plain": [
              "<Figure size 400x400 with 144 Axes>"
            ]
          },
          "metadata": {},
          "output_type": "display_data"
        }
      ],
      "source": [
        "# Randomly select an image from the CIFAR-100 training dataset\n",
        "image, _ = train_dataset[np.random.choice(len(train_dataset))]\n",
        "image_np = image.permute(1, 2, 0).numpy()  # Convert from (C, H, W) to (H, W, C)\n",
        "\n",
        "# Display the original image\n",
        "plt.figure(figsize=(4, 4))\n",
        "plt.imshow((image_np * 0.5 + 0.5))  # Denormalize and convert to uint8\n",
        "plt.axis(\"off\")\n",
        "plt.title(\"Original Image\")\n",
        "plt.show()\n",
        "\n",
        "# Resize the image to the specified size\n",
        "resize_transform = transforms.Compose([\n",
        "    transforms.ToPILImage(),  # Convert Tensor to PIL Image\n",
        "    transforms.Resize((image_size, image_size)),  # Resize to (72, 72)\n",
        "    transforms.ToTensor(),  # Convert back to Tensor\n",
        "])\n",
        "resized_image = resize_transform((image_np * 0.5 + 0.5)).unsqueeze(0)  # Add batch dimension\n",
        "\n",
        "# Create patches\n",
        "patch_layer = Patches(patch_size=patch_size)\n",
        "patches = patch_layer(resized_image)\n",
        "\n",
        "# Display information about the patches\n",
        "print(f\"Image size: {image_size} X {image_size}\")\n",
        "print(f\"Patch size: {patch_size} X {patch_size}\")\n",
        "print(f\"Patches per image: {patches.size(1)}\")\n",
        "print(f\"Elements per patch: {patches.size(-1)}\")\n",
        "\n",
        "# Visualize patches\n",
        "n = int(np.sqrt(patches.size(1)))  # Number of patches along one dimension\n",
        "plt.figure(figsize=(4, 4))\n",
        "for i, patch in enumerate(patches[0]):\n",
        "    ax = plt.subplot(n, n, i + 1)\n",
        "    patch_img = patch.view(patch_size, patch_size, 3)  # Reshape and permute back to (H, W, C)\n",
        "    plt.imshow((patch_img.detach().numpy() * 255).astype(\"uint8\"))\n",
        "    plt.axis(\"off\")\n",
        "plt.suptitle(\"Image Patches\")\n",
        "plt.show()"
      ]
    },
    {
      "cell_type": "markdown",
      "metadata": {
        "id": "sIwrsBcCHsPy"
      },
      "source": [
        "## Implement the patch encoding layer\n",
        "\n",
        "The `PatchEncoder` module will linearly transform a patch by projecting it into a\n",
        "vector of size `projection_dim`. In addition, it adds a learnable position\n",
        "embedding to the projected vector."
      ]
    },
    {
      "cell_type": "code",
      "execution_count": 36,
      "metadata": {
        "id": "LubsfJAOyBF2"
      },
      "outputs": [],
      "source": [
        "class PatchEncoder(nn.Module):\n",
        "    def __init__(self, num_patches, projection_dim, patch_dim):\n",
        "        super(PatchEncoder, self).__init__()\n",
        "        self.num_patches = num_patches\n",
        "        self.projection = nn.Linear(in_features=patch_dim, out_features=projection_dim)\n",
        "        self.position_embedding = nn.Embedding(num_patches, projection_dim)\n",
        "\n",
        "    def forward(self, patches):\n",
        "        # Generate position indices\n",
        "        positions = torch.arange(0, self.num_patches, device=patches.device).unsqueeze(0)\n",
        "        # Project patches and add position embeddings\n",
        "        projected_patches = self.projection(patches)\n",
        "        encoded = projected_patches + self.position_embedding(positions)\n",
        "        return encoded"
      ]
    },
    {
      "cell_type": "markdown",
      "metadata": {
        "id": "1AEtUOIXH9O2"
      },
      "source": [
        "## Build the ViT model\n",
        "\n",
        "The ViT model consists of multiple Transformer blocks,\n",
        "which use the `nn.MultiheadAttention` layer as a self-attention mechanism\n",
        "applied to the sequence of patches. The Transformer blocks produce a\n",
        "`[batch_size, num_patches, projection_dim]` tensor, which is processed via an\n",
        "classifier head with softmax to produce the final class probabilities output.\n",
        "\n",
        "Unlike the technique described in the [paper](https://arxiv.org/abs/2010.11929),\n",
        "which prepends a learnable embedding to the sequence of encoded patches to serve\n",
        "as the image representation, all the outputs of the final Transformer block are\n",
        "reshaped with `layers.Flatten()` and used as the image\n",
        "representation input to the classifier head."
      ]
    },
    {
      "cell_type": "code",
      "execution_count": 37,
      "metadata": {
        "id": "Vguj7lbZH6-R"
      },
      "outputs": [],
      "source": [
        "class VisionTransformer(nn.Module):\n",
        "    def __init__(self, input_dim, patch_size, num_patches, projection_dim, transformer_layers, num_heads, transformer_units, mlp_head_units, num_classes, dropout_rate=0.1):\n",
        "        super(VisionTransformer, self).__init__()\n",
        "\n",
        "        # Patch creation and encoding\n",
        "        self.patch_layer = Patches(patch_size)\n",
        "        self.patch_encoder = PatchEncoder(num_patches=num_patches, projection_dim=projection_dim, patch_dim=patch_size * patch_size * input_dim)\n",
        "\n",
        "        # Transformer blocks\n",
        "        self.transformer_blocks = nn.ModuleList([\n",
        "            nn.ModuleDict({\n",
        "                \"layernorm1\": nn.LayerNorm(projection_dim, eps=1e-6),\n",
        "                \"mha\": nn.MultiheadAttention(embed_dim=projection_dim, num_heads=num_heads, dropout=dropout_rate),\n",
        "                \"layernorm2\": nn.LayerNorm(projection_dim, eps=1e-6),\n",
        "                \"mlp\": MLP(input_dim=projection_dim, hidden_units=transformer_units, dropout_rate=dropout_rate)\n",
        "            })\n",
        "            for _ in range(transformer_layers)\n",
        "        ])\n",
        "\n",
        "        # Classifier head\n",
        "        self.layernorm = nn.LayerNorm(projection_dim, eps=1e-6)\n",
        "        self.flatten = nn.Flatten()\n",
        "        self.dropout = nn.Dropout(0.5)\n",
        "        self.mlp_head = MLP(input_dim=num_patches * projection_dim, hidden_units=mlp_head_units, dropout_rate=0.5)\n",
        "        self.classifier = nn.Linear(mlp_head_units[-1], num_classes)\n",
        "\n",
        "    def forward(self, x):\n",
        "      # Create patches\n",
        "      patches = self.patch_layer(x)\n",
        "\n",
        "      # Encode patches\n",
        "      encoded_patches = self.patch_encoder(patches)\n",
        "\n",
        "      # Transformer layers\n",
        "      for block in self.transformer_blocks:\n",
        "          x1 = block[\"layernorm1\"](encoded_patches)\n",
        "          attention_output, _ = block[\"mha\"](x1, x1, x1)\n",
        "          x2 = attention_output + encoded_patches  # Skip connection 1\n",
        "          x3 = block[\"layernorm2\"](x2)\n",
        "          mlp_output = block[\"mlp\"](x3)\n",
        "          encoded_patches = mlp_output + x2  # Skip connection 2\n",
        "\n",
        "      # Representation\n",
        "      representation = self.layernorm(encoded_patches)\n",
        "      representation = self.flatten(representation)\n",
        "      representation = self.dropout(representation)\n",
        "\n",
        "      # MLP head\n",
        "      features = self.mlp_head(representation)\n",
        "\n",
        "      # Classifier\n",
        "      logits = self.classifier(features)\n",
        "      return logits"
      ]
    },
    {
      "cell_type": "markdown",
      "metadata": {
        "id": "IUHlcC9fIqB2"
      },
      "source": [
        "## Compile, train, and evaluate the mode"
      ]
    },
    {
      "cell_type": "code",
      "execution_count": 38,
      "metadata": {
        "colab": {
          "base_uri": "https://localhost:8080/",
          "height": 1000
        },
        "id": "LaaZB9tnInf1",
        "outputId": "162caf2e-85c3-4bcb-b3fb-ad737ad14561"
      },
      "outputs": [
        {
          "name": "stdout",
          "output_type": "stream",
          "text": [
            "Epoch 1/10, Train Loss: 4.5926, Train Acc: 0.0143, Val Loss: 4.3825, Val Acc: 0.0438\n",
            "Epoch 2/10, Train Loss: 4.2336, Train Acc: 0.0519, Val Loss: 4.0030, Val Acc: 0.0858\n",
            "Epoch 3/10, Train Loss: 4.0087, Train Acc: 0.0740, Val Loss: 3.8454, Val Acc: 0.1062\n",
            "Epoch 4/10, Train Loss: 3.8929, Train Acc: 0.0899, Val Loss: 3.7571, Val Acc: 0.1260\n",
            "Epoch 5/10, Train Loss: 3.7900, Train Acc: 0.1083, Val Loss: 3.6165, Val Acc: 0.1466\n",
            "Epoch 6/10, Train Loss: 3.6713, Train Acc: 0.1302, Val Loss: 3.4450, Val Acc: 0.1802\n",
            "Epoch 7/10, Train Loss: 3.5382, Train Acc: 0.1519, Val Loss: 3.3420, Val Acc: 0.1908\n",
            "Epoch 8/10, Train Loss: 3.4122, Train Acc: 0.1742, Val Loss: 3.2619, Val Acc: 0.2074\n",
            "Epoch 9/10, Train Loss: 3.3105, Train Acc: 0.1937, Val Loss: 3.1687, Val Acc: 0.2184\n",
            "Epoch 10/10, Train Loss: 3.2300, Train Acc: 0.2072, Val Loss: 3.0752, Val Acc: 0.2466\n"
          ]
        },
        {
          "name": "stderr",
          "output_type": "stream",
          "text": [
            "<ipython-input-38-51d1cabb07d2>:81: FutureWarning: You are using `torch.load` with `weights_only=False` (the current default value), which uses the default pickle module implicitly. It is possible to construct malicious pickle data which will execute arbitrary code during unpickling (See https://github.com/pytorch/pytorch/blob/main/SECURITY.md#untrusted-models for more details). In a future release, the default value for `weights_only` will be flipped to `True`. This limits the functions that could be executed during unpickling. Arbitrary objects will no longer be allowed to be loaded via this mode unless they are explicitly allowlisted by the user via `torch.serialization.add_safe_globals`. We recommend you start setting `weights_only=True` for any use case where you don't have full control of the loaded file. Please open an issue on GitHub for any issues related to this experimental feature.\n",
            "  model.load_state_dict(torch.load(best_model_path))\n"
          ]
        },
        {
          "name": "stdout",
          "output_type": "stream",
          "text": [
            "Test Loss: 3.0277, Test Accuracy: 0.2558, Test Top-5 Accuracy: 0.5494\n"
          ]
        },
        {
          "data": {
            "image/png": "[encoded data removed]",
            "text/plain": [
              "<Figure size 640x480 with 1 Axes>"
            ]
          },
          "metadata": {},
          "output_type": "display_data"
        },
        {
          "data": {
            "image/png": "[encoded data removed]",
            "text/plain": [
              "<Figure size 640x480 with 1 Axes>"
            ]
          },
          "metadata": {},
          "output_type": "display_data"
        }
      ],
      "source": [
        "def run_experiment(model, train_dataset, test_dataset, batch_size, num_epochs, learning_rate, weight_decay, device):\n",
        "    # Split training dataset into train and validation sets\n",
        "    train_size = int(0.9 * len(train_dataset))\n",
        "    val_size = len(train_dataset) - train_size\n",
        "    train_subset, val_subset = random_split(train_dataset, [train_size, val_size])\n",
        "\n",
        "    # Data loaders\n",
        "    train_loader = DataLoader(train_subset, batch_size=batch_size, shuffle=True)\n",
        "    val_loader = DataLoader(val_subset, batch_size=batch_size, shuffle=False)\n",
        "    test_loader = DataLoader(test_dataset, batch_size=batch_size, shuffle=False)\n",
        "\n",
        "    # Move model to device (GPU/CPU)\n",
        "    model = model.to(device)\n",
        "\n",
        "    # Optimizer and loss function\n",
        "    optimizer = optim.AdamW(model.parameters(), lr=learning_rate, weight_decay=weight_decay)\n",
        "    criterion = nn.CrossEntropyLoss()\n",
        "\n",
        "    # Track metrics\n",
        "    train_loss_history, val_loss_history = [], []\n",
        "    train_acc_history, val_acc_history = [], []\n",
        "\n",
        "    best_val_acc = 0.0\n",
        "    best_model_path = \"best_vit_model.pth\"\n",
        "\n",
        "    # Training loop\n",
        "    for epoch in range(num_epochs):\n",
        "        model.train()\n",
        "        train_loss, correct = 0.0, 0\n",
        "        for images, labels in train_loader:\n",
        "            images, labels = images.to(device), labels.to(device)\n",
        "\n",
        "            # Forward pass\n",
        "            outputs = model(images)\n",
        "            loss = criterion(outputs, labels)\n",
        "\n",
        "            # Backward pass and optimization\n",
        "            optimizer.zero_grad()\n",
        "            loss.backward()\n",
        "            optimizer.step()\n",
        "\n",
        "            # Track metrics\n",
        "            train_loss += loss.item() * images.size(0)\n",
        "            _, preds = outputs.max(1)\n",
        "            correct += preds.eq(labels).sum().item()\n",
        "\n",
        "        train_loss /= len(train_loader.dataset)\n",
        "        train_acc = correct / len(train_loader.dataset)\n",
        "\n",
        "        # Validation loop\n",
        "        model.eval()\n",
        "        val_loss, correct = 0.0, 0\n",
        "        with torch.no_grad():\n",
        "            for images, labels in val_loader:\n",
        "                images, labels = images.to(device), labels.to(device)\n",
        "\n",
        "                outputs = model(images)\n",
        "                loss = criterion(outputs, labels)\n",
        "\n",
        "                val_loss += loss.item() * images.size(0)\n",
        "                _, preds = outputs.max(1)\n",
        "                correct += preds.eq(labels).sum().item()\n",
        "\n",
        "        val_loss /= len(val_loader.dataset)\n",
        "        val_acc = correct / len(val_loader.dataset)\n",
        "\n",
        "        # Save best model\n",
        "        if val_acc > best_val_acc:\n",
        "            best_val_acc = val_acc\n",
        "            torch.save(model.state_dict(), best_model_path)\n",
        "\n",
        "        # Log metrics\n",
        "        train_loss_history.append(train_loss)\n",
        "        val_loss_history.append(val_loss)\n",
        "        train_acc_history.append(train_acc)\n",
        "        val_acc_history.append(val_acc)\n",
        "\n",
        "        print(f\"Epoch {epoch + 1}/{num_epochs}, Train Loss: {train_loss:.4f}, Train Acc: {train_acc:.4f}, Val Loss: {val_loss:.4f}, Val Acc: {val_acc:.4f}\")\n",
        "\n",
        "    # Load best model\n",
        "    model.load_state_dict(torch.load(best_model_path))\n",
        "\n",
        "    # Test loop\n",
        "    test_loss, correct = 0.0, 0\n",
        "    top5_correct = 0\n",
        "    model.eval()\n",
        "    with torch.no_grad():\n",
        "        for images, labels in test_loader:\n",
        "            images, labels = images.to(device), labels.to(device)\n",
        "\n",
        "            outputs = model(images)\n",
        "            loss = criterion(outputs, labels)\n",
        "\n",
        "            test_loss += loss.item() * images.size(0)\n",
        "            _, preds = outputs.max(1)\n",
        "            correct += preds.eq(labels).sum().item()\n",
        "\n",
        "            # Top-5 accuracy\n",
        "            _, top5_preds = outputs.topk(5, dim=1)\n",
        "            top5_correct += sum([labels[i].item() in top5_preds[i] for i in range(labels.size(0))])\n",
        "\n",
        "    test_loss /= len(test_loader.dataset)\n",
        "    test_acc = correct / len(test_loader.dataset)\n",
        "    test_top5_acc = top5_correct / len(test_loader.dataset)\n",
        "\n",
        "    print(f\"Test Loss: {test_loss:.4f}, Test Accuracy: {test_acc:.4f}, Test Top-5 Accuracy: {test_top5_acc:.4f}\")\n",
        "\n",
        "    return train_loss_history, val_loss_history, train_acc_history, val_acc_history\n",
        "\n",
        "def plot_history(train_history, val_history, title, ylabel):\n",
        "    plt.plot(train_history, label=\"Train\")\n",
        "    plt.plot(val_history, label=\"Validation\")\n",
        "    plt.xlabel(\"Epochs\")\n",
        "    plt.ylabel(ylabel)\n",
        "    plt.title(title)\n",
        "    plt.legend()\n",
        "    plt.grid()\n",
        "    plt.show()\n",
        "\n",
        "# Create ViT model\n",
        "vit_classifier = VisionTransformer(\n",
        "    input_dim=input_dim,\n",
        "    patch_size=patch_size,\n",
        "    num_patches=num_patches,\n",
        "    projection_dim=projection_dim,\n",
        "    transformer_layers=transformer_layers,\n",
        "    num_heads=num_heads,\n",
        "    transformer_units=transformer_units,\n",
        "    mlp_head_units=mlp_head_units,\n",
        "    num_classes=num_classes,\n",
        "    dropout_rate=0.1\n",
        ")\n",
        "\n",
        "train_history = run_experiment(\n",
        "    model=vit_classifier,\n",
        "    train_dataset=train_dataset_augmentation,\n",
        "    test_dataset=test_dataset,\n",
        "    batch_size=batch_size,\n",
        "    num_epochs=num_epochs,\n",
        "    learning_rate=learning_rate,\n",
        "    weight_decay=weight_decay,\n",
        "    device=device,\n",
        ")\n",
        "\n",
        "# Plot history\n",
        "plot_history(train_history[0], train_history[1], title=\"Loss Over Epochs\", ylabel=\"Loss\")\n",
        "plot_history(train_history[2], train_history[3], title=\"Accuracy Over Epochs\", ylabel=\"Accuracy\")"
      ]
    },
    {
      "cell_type": "markdown",
      "metadata": {
        "id": "RYn3Awpk3pEb"
      },
      "source": [
        "Note that the state of the art results reported in the paper are achieved by pre-training the ViT model using the JFT-300M dataset, then fine-tuning it on the target dataset. To improve the model quality without pre-training, you can try to train the model for more epochs, use a larger number of Transformer layers, resize the input images, change the patch size, or increase the projection dimensions. Besides, as mentioned in the paper, the quality of the model is affected not only by architecture choices, but also by parameters such as the learning rate schedule, optimizer, weight decay, etc. In practice, it's recommended to fine-tune a ViT model that was pre-trained using a large, high-resolution dataset."
      ]
    }
  ],
  "metadata": {
    "accelerator": "GPU",
    "colab": {
      "gpuType": "T4",
      "provenance": []
    },
    "kernelspec": {
      "display_name": "Python 3",
      "name": "python3"
    },
    "language_info": {
      "name": "python"
    }
  },
  "nbformat": 4,
  "nbformat_minor": 0
}
